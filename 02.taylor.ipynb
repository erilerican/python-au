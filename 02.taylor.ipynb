{
 "cells": [
  {
   "cell_type": "markdown",
   "metadata": {},
   "source": [
    "# Чуть-чуть математики\n",
    "\n",
    "Теперь давайте попробуем написать функцию. Например, чтобы приближённо считала синус. Для небольших $x$:\n",
    "\n",
    "$$\\sin x = x - \\frac{x^3}{3!} + \\frac{x^5}{5!} - \\frac{x^7}{7!} + \\ldots + R(x) =\n",
    "\\sum_{n=0}^N \\left(\\frac{x^{2n + 1}}{(2n + 1)!} -  \\frac{x^{2n+2}}{(2n+2)!}\\right) + R(x),$$\n",
    "\n",
    "причём $R(x) \\xrightarrow[N \\rightarrow \\infty]{} 0$.\n",
    "\n",
    "Это частичная сумма т.н. ряда Тейлора:\n",
    "\n",
    "$$ f(x) = f(a)+\\sum_{k=1}^\\infty {f^{(k)} (a) \\over k!} (x - a)^k. $$"
   ]
  },
  {
   "cell_type": "code",
   "execution_count": 2,
   "metadata": {},
   "outputs": [
    {
     "name": "stdout",
     "output_type": "stream",
     "text": [
      "0.9921976592874601\n",
      "0.992197667229329\n"
     ]
    }
   ],
   "source": [
    "import math\n",
    "\n",
    "iterations = 20\n",
    "\n",
    "def my_cos(x):\n",
    "    \"\"\"\n",
    "    \"\"\"\n",
    "    partial_sum = 0\n",
    "    x_pow = 1\n",
    "    for n in range(iterations):\n",
    "        # В цикле постепенно считаем степень и факториал\n",
    "        minus = x_pow * x ** 2 / (2 * n + 1) / (2 * n + 2)\n",
    "        partial_sum += x_pow - minus\n",
    "        x_pow = minus * x ** 2 / (2 * n + 3) / (2 * n + 4)\n",
    "    \n",
    "    return partial_sum\n",
    "\n",
    "print(my_cos(0.125))\n",
    "print(math.cos(0.125))"
   ]
  },
  {
   "cell_type": "markdown",
   "metadata": {},
   "source": [
    "выходит у нас немного неточно, но зато...\n",
    "\n",
    "... Зато наша функция умеет считать синус комплексного аргумента, легко достигающий пяти и более в мирное время. Мнимая единица ($i$) в Питоне обозначется, как `j`.\n",
    "\n",
    "Стандартная библиотека тоже умеет, **и поточнее**."
   ]
  },
  {
   "cell_type": "code",
   "execution_count": 5,
   "metadata": {},
   "outputs": [
    {
     "name": "stdout",
     "output_type": "stream",
     "text": [
      "\"Угол\", на котором конус достигает пяти: -2.2924316695611777j\n",
      "Достигает ли пяти наш конус? (5.387641243098284+0j)\n",
      "А библиотечный? (5+0j)\n"
     ]
    }
   ],
   "source": [
    "%matplotlib inline\n",
    "\n",
    "import math\n",
    "import cmath\n",
    "import matplotlib.pyplot as plt\n",
    "import numpy as np\n",
    "\n",
    "complex_angle = cmath.acos(5)\n",
    "print('\"Угол\", на котором конус достигает пяти:', complex_angle)\n",
    "\n",
    "print(\"Достигает ли пяти наш конус?\", my_cos(complex_angle))\n",
    "print(\"А библиотечный?\", cmath.cos(complex_angle))"
   ]
  },
  {
   "cell_type": "markdown",
   "metadata": {},
   "source": [
    "А какое самое слабое место у нашего синуса?"
   ]
  },
  {
   "cell_type": "code",
   "execution_count": 6,
   "metadata": {},
   "outputs": [
    {
     "data": {
      "image/png": "[encoded data removed]",
      "text/plain": [
       "<Figure size 432x288 with 1 Axes>"
      ]
     },
     "metadata": {
      "needs_background": "light"
     },
     "output_type": "display_data"
    }
   ],
   "source": [
    "angles = np.r_[-5.0:5.0:0.01]\n",
    "plt.plot(angles, np.cos(angles))\n",
    "plt.plot(angles, np.vectorize(my_cos)(angles))\n",
    "plt.show()"
   ]
  },
  {
   "cell_type": "markdown",
   "metadata": {},
   "source": [
    "# Задание\n",
    "\n",
    "Реализовать вычисление частичной суммы [ряда Тейлора для одной из элементарных функций](http://ru.math.wikia.com/wiki/%D0%A0%D1%8F%D0%B4_%D0%A2%D0%B5%D0%B9%D0%BB%D0%BE%D1%80%D0%B0) (кроме синуса 😸), аналогичным образом «испытать» получившиеся функции. "
   ]
  },
  {
   "cell_type": "code",
   "execution_count": null,
   "metadata": {},
   "outputs": [],
   "source": []
  }
 ],
 "metadata": {
  "kernelspec": {
   "display_name": "Python 3",
   "language": "python",
   "name": "python3"
  },
  "language_info": {
   "codemirror_mode": {
    "name": "ipython",
    "version": 3
   },
   "file_extension": ".py",
   "mimetype": "text/x-python",
   "name": "python",
   "nbconvert_exporter": "python",
   "pygments_lexer": "ipython3",
   "version": "3.7.0"
  }
 },
 "nbformat": 4,
 "nbformat_minor": 2
}
