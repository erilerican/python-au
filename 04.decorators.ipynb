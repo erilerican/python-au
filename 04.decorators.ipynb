{
 "cells": [
  {
   "cell_type": "markdown",
   "metadata": {},
   "source": [
    "# Декораторы\n",
    "\n",
    "Людей много, и они все разные. Как бы это ни звучало, но общество требует (обычно от государства) с такими разными людьми делать, тем не менее, одинаковые стандартные вещи. Например, регистрировать людей в фискальных органах, платить пенсионерам пенсию, делать детям прививки от кори. За отдельными исключениями, это стандартное действие.\n",
    "\n",
    "Функции тоже все разные. Стандартная операция — вызвать функцию. Ещё её можно использовать как значение, чтобы куда-нибудь передать. Удобная операция (уже требующая использовать функцию, как значение) — декорирование. Перед тем, как получить своё имя, функцию «пропускают» через другую функцию.\n",
    "\n",
    "Например, мы хотим, чтобы функция перед вызовом печатала свой параметр (для простоты будем считать, что он один), а после выхода — возвращаемое значение. Так тому и быть.\n",
    "\n",
    "## Пример"
   ]
  },
  {
   "cell_type": "code",
   "execution_count": 1,
   "metadata": {},
   "outputs": [
    {
     "name": "stdout",
     "output_type": "stream",
     "text": [
      "Функция: <function test_function at 0x000001463F4D1400> , аргумент: 5 , значение: 10\n",
      "10\n"
     ]
    }
   ],
   "source": [
    "def test_function(n):\n",
    "    return n * 2\n",
    "\n",
    "def logged(genuine_function):  # Эта функция реализует декоратор. Она получает на вход исходную (настоящую) функцию\n",
    "    def fake_function(argument):  # Создаёт внутри фальшивую функцию\n",
    "        result = genuine_function(argument) # Считает значение настоящей функции\n",
    "        print(\"Функция:\", repr(genuine_function), \", аргумент:\", argument, \", значение:\", result)  # Печатает информацию\n",
    "        return result  # И возвращает значение\n",
    "    return fake_function  # Ещё не забыли? Декоратор получает функцию и возвращает тоже функцию\n",
    "\n",
    "test_function = logged(test_function)  # Пропускаем test_function через декоратор и запоминаем под тем же именем\n",
    "\n",
    "print(test_function(5))"
   ]
  },
  {
   "cell_type": "markdown",
   "metadata": {},
   "source": [
    "Можно и поизящнее — для этого есть специальный удобный синтаксис:"
   ]
  },
  {
   "cell_type": "code",
   "execution_count": 2,
   "metadata": {},
   "outputs": [
    {
     "name": "stdout",
     "output_type": "stream",
     "text": [
      "Функция: <function test_function at 0x000001463F4D1400> , аргумент: 3 , значение: 6\n",
      "6\n"
     ]
    }
   ],
   "source": [
    "@logged\n",
    "def test_function_2(n):\n",
    "    return n * 3\n",
    "\n",
    "print(test_function(3))"
   ]
  },
  {
   "cell_type": "markdown",
   "metadata": {},
   "source": [
    "## А зачем вообще всё это нужно?\n",
    "\n",
    "* Декораторы `@staticmethod` и `@classmethod`, которые позволяют вызывать статический метод от экземпляра объекта (удобно!)\n",
    "* Регистрация функций, как обработчиков событий, например, в веб-приложениях (пример с фреймфорком Flask):\n",
    "\n",
    "```\n",
    "rom flask import Flask\n",
    "app = Flask(__name__)\n",
    "\n",
    "@app.route('/hello')\n",
    "def hello_world():\n",
    "    return 'Hello, World!'\n",
    "```\n",
    "\n",
    "После этого по запросу `http://сервер/hello` браузер получит обратно строку \"Hello, World!\". Т.е. декоратор саму функцию не «переделывает», зато сообщает фреймворку, что она понадобится в такой-то ситуации.\n",
    "\n",
    "* Т.н. *мемоизация* — кеширование результатов функций **без побочных эффектов**, чтобы не считать многократно то, что уже посчитано, но нужно часто. Подробнее см. [`@functools.lru_cache`](https://docs.python.org/3/library/functools.html#functools.lru_cache).\n",
    "\n",
    "* Изменение свойств функций, как в нашем примере\n",
    "\n",
    "Стоп. А мы реально хотим, чтобы прямо на консоль (точнее в `STDOUT`) выдавался весь наш лог — кого с какими параметрами вызвали?.. Так себе решение. Давайте сделаем декоратор, который позволит писать в произвольный поток. В нашем примере будем писать в `STDERR`, но это легко переделать под запись в файл на диске, например. Приступим."
   ]
  },
  {
   "cell_type": "code",
   "execution_count": 3,
   "metadata": {},
   "outputs": [
    {
     "name": "stdout",
     "output_type": "stream",
     "text": [
      "True\n"
     ]
    },
    {
     "name": "stderr",
     "output_type": "stream",
     "text": [
      "Функция: <function rev at 0x000001463F4D1D08> , аргумент: арозаупаланалапуазора , значение: True\n"
     ]
    }
   ],
   "source": [
    "import sys\n",
    "\n",
    "def stream_logged(stream: 'file'):\n",
    "    \"\"\"Log function arguments and value to stream\"\"\"\n",
    "    # Эта функция — не декоратор. Получив аргумент, она создаст и вернёт декоратор!\n",
    "\n",
    "    # А дальше — бессовестный копипаст сверху\n",
    "    def logging_decorator(genuine_function):  # Эта функция реализует декоратор. Она получает на вход исходную (настоящую) функцию\n",
    "        def fake_function(argument):  # Создаёт внутри фальшивую функцию\n",
    "            result = genuine_function(argument) # Считает значение настоящей функции\n",
    "            print(\"Функция:\", repr(genuine_function), \", аргумент:\", argument, \", значение:\", result, file=stream)  # Печатает информацию\n",
    "            return result  # И возвращает значение\n",
    "        return fake_function  # Ещё не забыли? Декоратор получает функцию и возвращает тоже функцию\n",
    "\n",
    "    return logging_decorator # Ну и наконец выдайм сам декоратор\n",
    "\n",
    "# Чтобы получить декоратор, мы вызываем stream_logged от параметра —\n",
    "# файлового объекта. Полученный декоратор уже применяется к функции.\n",
    "# А для «потребителя» выглядит просто как декоратор с параметром...\n",
    "@stream_logged(sys.stderr) \n",
    "def rev(s):\n",
    "    return list(s) == list(reversed(s))\n",
    "\n",
    "print(rev(\"арозаупаланалапуазора\"))"
   ]
  },
  {
   "cell_type": "markdown",
   "metadata": {},
   "source": [
    "То, что оно красненькое — это не ошибка. Это последствие нашего желания печатать в `STDERR`.\n",
    "\n",
    "## Задание\n",
    "\n",
    "Ну и как без него?\n",
    "\n",
    "Сделать «декоратор с параметром» (но мы-то знаем), который будет применять функцию к арументу заданное количество раз. Т.е. такой:\n",
    "\n",
    "```\n",
    "def repeat(n):  # Вот это и надо реализовать\n",
    "    ...\n",
    "    ...\n",
    "\n",
    "\n",
    "@repeat(2)\n",
    "def plus_1(x):\n",
    "    return x + 1\n",
    "\n",
    "\n",
    "@repeat(0)\n",
    "def mul_2(x):\n",
    "    return x * 2\n",
    "\n",
    "print(plus_1(3))  # должно выдать 5\n",
    "print(mul_2(4))  # должно выдать 4\n",
    "```"
   ]
  },
  {
   "cell_type": "code",
   "execution_count": 1,
   "metadata": {},
   "outputs": [
    {
     "name": "stdout",
     "output_type": "stream",
     "text": [
      "5\n",
      "4\n"
     ]
    }
   ],
   "source": [
    "\n",
    "def repeat(n):\n",
    "    def decorator(function):\n",
    "        def fake_function(argument):\n",
    "            result = argument\n",
    "            for i in range(n):\n",
    "                result = function(result)\n",
    "            return result\n",
    "        return fake_function\n",
    "    return decorator\n",
    "\n",
    "\n",
    "@repeat(2)\n",
    "def plus_1(x):\n",
    "    return x + 1\n",
    "\n",
    "\n",
    "@repeat(0)\n",
    "def mul_2(x):\n",
    "    return x * 2\n",
    "\n",
    "print(plus_1(3))  # должно выдать 5\n",
    "print(mul_2(4))  # должно выдать 4"
   ]
  }
 ],
 "metadata": {
  "kernelspec": {
   "display_name": "Python 3",
   "language": "python",
   "name": "python3"
  },
  "language_info": {
   "codemirror_mode": {
    "name": "ipython",
    "version": 3
   },
   "file_extension": ".py",
   "mimetype": "text/x-python",
   "name": "python",
   "nbconvert_exporter": "python",
   "pygments_lexer": "ipython3",
   "version": "3.7.0"
  }
 },
 "nbformat": 4,
 "nbformat_minor": 2
}
